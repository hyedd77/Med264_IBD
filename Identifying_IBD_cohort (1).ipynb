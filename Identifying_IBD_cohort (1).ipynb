{
 "cells": [
  {
   "cell_type": "code",
   "execution_count": null,
   "metadata": {},
   "outputs": [],
   "source": [
    "%load_ext google.cloud.bigquery\n",
    "from datetime import date\n",
    "import time\n",
    "from datetime import datetime as dt\n",
    "import numpy as np\n",
    "import pandas as pd\n",
    "import matplotlib as mpl\n",
    "import seaborn as sns\n",
    "import matplotlib.pyplot as plt\n",
    "from datetime import datetime\n",
    "import dateutil\n",
    "from IPython.display import display, HTML\n",
    "import os\n",
    "import subprocess"
   ]
  },
  {
   "cell_type": "code",
   "execution_count": null,
   "metadata": {},
   "outputs": [],
   "source": [
    "dataset = os.getenv(\"WORKSPACE_CDR\")\n",
    "CDR_split=dataset.split(\".\")\n",
    "CDR_version=CDR_split[1]\n",
    "prefix = CDR_split[0]"
   ]
  },
  {
   "cell_type": "code",
   "execution_count": null,
   "metadata": {},
   "outputs": [],
   "source": [
    "# Information about CDR\n",
    "query=\"\"\"SELECT DISTINCT p.person_id\n",
    "    ,gender_concept_id,race_concept_id,year_of_birth\n",
    "    FROM \n",
    "    `\"\"\"+prefix+\"\"\".\"\"\"+CDR_version+\"\"\".person` p \"\"\"\n",
    "\n",
    "demo_patients=pd.read_gbq(query, dialect=\"standard\")"
   ]
  },
  {
   "cell_type": "code",
   "execution_count": null,
   "metadata": {},
   "outputs": [],
   "source": [
    "demo_patients[\"age_today\"] = datetime.today().year-demo_patients[\"year_of_birth\"]"
   ]
  },
  {
   "cell_type": "code",
   "execution_count": null,
   "metadata": {},
   "outputs": [],
   "source": [
    "# Go through all steps of K51\n",
    "icd_K51_3num = np.linspace(start=51.000, stop = 51.999, num = 1000)\n",
    "icd_K51_2num = np.linspace(start=51.00, stop = 51.99, num = 100)\n",
    "\n",
    "decimal_digits = 3\n",
    "icd_K51_3 = ['K'+f\"{num:.{decimal_digits}f}\" for num in icd_K51_3num]\n",
    "\n",
    "decimal_digits = 2\n",
    "icd_K51_2 = ['K'+f\"{num:.{decimal_digits}f}\" for num in icd_K51_2num]\n",
    "\n",
    "icd_K51_all = icd_K51_2 + icd_K51_3\n",
    "\n",
    "print(icd_K51_all)"
   ]
  },
  {
   "cell_type": "code",
   "execution_count": null,
   "metadata": {},
   "outputs": [],
   "source": [
    "# Go through all steps of K50.1 and K50.8\n",
    "icd_K50_11 = np.linspace(start=50.111, stop = 50.119, num = 9)\n",
    "\n",
    "decimal_digits = 3\n",
    "icd_K50_11 = ['K'+f\"{num:.{decimal_digits}f}\" for num in icd_K50_11]\n",
    "\n",
    "icd_K50_81 = np.linspace(start=50.811, stop = 50.819, num = 9)\n",
    "\n",
    "decimal_digits = 3\n",
    "icd_K50_81 = ['K'+f\"{num:.{decimal_digits}f}\" for num in icd_K50_81]\n",
    "\n",
    "icd_K50_all = icd_K50_81 + icd_K50_11\n",
    "\n",
    "print(icd_K50_all)"
   ]
  },
  {
   "cell_type": "code",
   "execution_count": null,
   "metadata": {},
   "outputs": [],
   "source": [
    "# Check the codes for K50\n",
    "query = ('''\n",
    "SELECT distinct condition_source_value\n",
    "FROM fc-aou-cdr-prod-ct.C2022Q4R9.condition_occurrence\n",
    "WHERE condition_source_value LIKE 'K50%'\n",
    "''')\n",
    "K50_codes_df = pd.read_gbq(query, dialect=\"standard\")\n",
    "\n",
    "# Check the codes for K51\n",
    "query = ('''\n",
    "SELECT distinct condition_source_value\n",
    "FROM fc-aou-cdr-prod-ct.C2022Q4R9.condition_occurrence\n",
    "WHERE condition_source_value LIKE 'K51%'\n",
    "''')\n",
    "K51_codes_df = pd.read_gbq(query, dialect=\"standard\")\n",
    "\n",
    "# Check the codes for K52.3\n",
    "query = ('''\n",
    "SELECT distinct condition_source_value\n",
    "FROM fc-aou-cdr-prod-ct.C2022Q4R9.condition_occurrence\n",
    "WHERE condition_source_value LIKE 'K52.3%'\n",
    "''')\n",
    "K52_3_codes_df = pd.read_gbq(query, dialect=\"standard\")"
   ]
  },
  {
   "cell_type": "code",
   "execution_count": null,
   "metadata": {},
   "outputs": [],
   "source": [
    "# we will use these arrays to dump into sql queries\n",
    "colitis_diagnostic_condition_icd9 = ['556', '556.0', '556.1', '556.2', '556.3',\n",
    "                                     '556.5', '556.6', '556.8', '556.9',\n",
    "                                     '555.1', '555.2'] \n",
    "# Split by crohn's and UC\n",
    "crohns_icd9 = ['555.1', '555.2']\n",
    "uc_icd9  = ['556', '556.0', '556.1', '556.2', '556.3', '556.5', '556.6', '556.7', '556.8', '556.9']\n",
    "\n",
    "colitis_diagnostic_condition_icd10 = ['K51', 'K51.0', 'K51.1', 'K51.2', 'K51.3', 'K51.4', 'K51.5', \n",
    "                                      'K51.8', 'K50.1', 'K50.8', 'K50.10', 'K50.11',\n",
    "                                      'K50.80', 'K50.81', 'K52.3'] + icd_K51_all + icd_K50_all\n",
    "# Split by crohn's and UC\n",
    "crohns_icd10 = ['K50.1', 'K50.8', 'K50.10', 'K50.11', 'K50.80', 'K50.81'] + icd_K50_all\n",
    "uc_icd10 = ['K51', 'K51.0', 'K51.1', 'K51.2', 'K51.3', 'K51.4', 'K51.5', \n",
    "                                      'K51.8'] + icd_K51_all\n",
    "\n",
    "\n",
    "colitis_icd9_conds = \",\".join([\"'\"+code+\"'\" for code in colitis_diagnostic_condition_icd9])\n",
    "colitis_icd10_conds = \",\".join([\"'\"+code+\"'\" for code in colitis_diagnostic_condition_icd10])"
   ]
  },
  {
   "cell_type": "code",
   "execution_count": null,
   "metadata": {},
   "outputs": [],
   "source": [
    "query = (\"\"\"\n",
    "SELECT distinct * \n",
    "FROM \n",
    "    (SELECT DISTINCT person_id, condition_source_concept_id, condition_source_value, condition_start_date \n",
    "        FROM `\"\"\"+prefix+\"\"\".\"\"\"+ str(CDR_version) +\"\"\".condition_occurrence`) AS cond \n",
    "     INNER JOIN \n",
    "        (SELECT DISTINCT concept_id, concept_name, concept_code, vocabulary_id \n",
    "            FROM `\"\"\"+prefix+\"\"\".\"\"\"+str(CDR_version)+\"\"\".concept` \n",
    "            where (concept_code in (\"\"\"+colitis_icd9_conds+\"\"\") \n",
    "            and vocabulary_id ='ICD9CM') or (concept_code in (\"\"\"+colitis_icd10_conds+\"\"\")\n",
    "            and vocabulary_id ='ICD10CM')) as concept \n",
    "            on concept.concept_id = cond.condition_source_concept_id\n",
    "\"\"\")\n",
    "df_colitis_diagnostic_condition= pd.read_gbq(query, dialect=\"standard\")"
   ]
  },
  {
   "cell_type": "code",
   "execution_count": null,
   "metadata": {},
   "outputs": [],
   "source": [
    "# Extract the earliest date\n",
    "min_dates_colitis_diags = df_colitis_diagnostic_condition.sort_values([\"person_id\",\"condition_start_date\"]).groupby(\"person_id\", as_index=False).first()\n",
    "#min_dates_colitis_diags"
   ]
  },
  {
   "cell_type": "code",
   "execution_count": null,
   "metadata": {},
   "outputs": [],
   "source": [
    "len(min_dates_colitis_diags.person_id.unique())\n",
    "#min_dates_colitis_diags.person_id.head()\n",
    "min_dates_colitis_diags.head()"
   ]
  },
  {
   "cell_type": "code",
   "execution_count": null,
   "metadata": {},
   "outputs": [],
   "source": [
    "# now include this info in the colitis df\n",
    "#all_colitis = pd.merge(min_dates_colitis_diags, ehr_metadata, on =\"person_id\")\n",
    "all_colitis = pd.merge(min_dates_colitis_diags, demo_patients, on =\"person_id\")"
   ]
  },
  {
   "cell_type": "code",
   "execution_count": null,
   "metadata": {},
   "outputs": [],
   "source": [
    "# Now include the age of colitis diagnosis\n",
    "all_colitis[\"age_at_colitis_dx\"] = [i.year for i in all_colitis[\"condition_start_date\"]]\n",
    "all_colitis[\"age_at_colitis_dx\"] = all_colitis[\"age_at_colitis_dx\"] - all_colitis[\"year_of_birth\"]\n",
    "all_colitis.head()\n",
    "len(all_colitis)"
   ]
  },
  {
   "cell_type": "code",
   "execution_count": null,
   "metadata": {},
   "outputs": [],
   "source": [
    "# Separate Crohn's and UC\n",
    "uc_all_codes = uc_icd9 + uc_icd10\n",
    "crohns_all_codes = crohns_icd9 + crohns_icd10\n",
    "\n",
    "#all_uc = all_colitis[all_colitis.concept_code.isin(uc_all_codes)]\n",
    "#all_crohns = all_colitis[all_colitis.concept_code.isin(crohns_all_codes)]\n",
    "#####adding as indicator column\n",
    "def assign_uc(row):\n",
    "    if row['concept_code'] in uc_all_codes:\n",
    "        return 1\n",
    "    elif row['concept_code'] in crohns_all_codes:\n",
    "        return 2\n",
    "    else:\n",
    "        return None\n",
    "    \n",
    "all_colitis['uc1_crohns2'] = all_colitis.apply(assign_uc, axis = 1)  \n",
    "all_colitis['uc1_crohns2'].value_counts()\n",
    "all_colitis.head()"
   ]
  },
  {
   "cell_type": "code",
   "execution_count": null,
   "metadata": {},
   "outputs": [],
   "source": [
    "# Identify CACRC patients\n",
    "crc_diagnostic_condition_icd9 = ['153', '153.0', '153.1', '153.2', '153.3', '153.4', \n",
    "                  '153.5', '153.6', '153.7', '153.8', '153.9',\n",
    "                  '154', '154.0', '154.1', '154.2', '154.3', '154.8']\n",
    "\n",
    "crc_diagnostic_condition_icd10 = ['C18', 'C18.0', 'C18.1', 'C18.2', 'C18.3', 'C18.4',\n",
    "                  'C18.5', 'C18.6', 'C18.7', 'C18.8', 'C18.9',\n",
    "                  'C19',\n",
    "                  'C20']\n",
    "\n",
    "crc_icd9_conds = \",\".join([\"'\"+code+\"'\" for code in crc_diagnostic_condition_icd9])\n",
    "crc_icd10_conds = \",\".join([\"'\"+code+\"'\" for code in crc_diagnostic_condition_icd10])"
   ]
  },
  {
   "cell_type": "code",
   "execution_count": null,
   "metadata": {},
   "outputs": [],
   "source": [
    "query = (\"\"\"\n",
    "SELECT distinct * \n",
    "FROM \n",
    "    (SELECT DISTINCT person_id, condition_source_concept_id, condition_source_value, condition_start_date \n",
    "        FROM `\"\"\"+prefix+\"\"\".\"\"\"+ str(CDR_version) +\"\"\".condition_occurrence`) AS cond \n",
    "     INNER JOIN \n",
    "        (SELECT DISTINCT concept_id, concept_name, concept_code, vocabulary_id \n",
    "            FROM `\"\"\"+prefix+\"\"\".\"\"\"+str(CDR_version)+\"\"\".concept` \n",
    "            where (concept_code in (\"\"\"+crc_icd9_conds+\"\"\") \n",
    "            and vocabulary_id ='ICD9CM') or (concept_code in (\"\"\"+crc_icd10_conds+\"\"\")\n",
    "            and vocabulary_id ='ICD10CM')) as concept \n",
    "            on concept.concept_id = cond.condition_source_concept_id\n",
    "\"\"\")\n",
    "df_crc_diagnostic_condition= pd.read_gbq(query, dialect=\"standard\")"
   ]
  },
  {
   "cell_type": "code",
   "execution_count": null,
   "metadata": {},
   "outputs": [],
   "source": [
    "# Extract the earliest date\n",
    "min_dates_crc_diags = df_crc_diagnostic_condition.sort_values([\"person_id\",\"condition_start_date\"]).groupby(\"person_id\", as_index=False).first()\n",
    "min_dates_crc_diags\n",
    "\n",
    "# Subset to population of colitis patients\n",
    "crc_and_colitis = pd.merge(min_dates_crc_diags, all_colitis, on = \"person_id\")\n",
    "#crc_and_colitis\n",
    "# NOTE: condition_x is now the CRC diagnosis and _y is the colitis diagnosis"
   ]
  },
  {
   "cell_type": "code",
   "execution_count": null,
   "metadata": {},
   "outputs": [],
   "source": [
    "# Add the age at CRC diagnosis\n",
    "crc_and_colitis[\"age_at_crc_dx\"] = [i.year for i in crc_and_colitis[\"condition_start_date_x\"]]\n",
    "crc_and_colitis[\"age_at_crc_dx\"] = crc_and_colitis[\"age_at_crc_dx\"] - crc_and_colitis[\"year_of_birth\"]\n",
    "\n",
    "#crc_and_colitis"
   ]
  },
  {
   "cell_type": "code",
   "execution_count": null,
   "metadata": {},
   "outputs": [],
   "source": [
    "# Remove colitis cases that had cancer diagnosis first from both dfs\n",
    "minYearsColitis_to_crc=1\n",
    "colitis_no_previous_cancer = pd.merge(all_colitis, crc_and_colitis[[\"person_id\", \"age_at_crc_dx\"]], how = \"left\", on = \"person_id\")\n",
    "pids_remove = pd.DataFrame({\"pids_remove\": colitis_no_previous_cancer.person_id[colitis_no_previous_cancer[\"age_at_crc_dx\"] <= minYearsColitis_to_crc+colitis_no_previous_cancer[\"age_at_colitis_dx\"]]})\n",
    "\n",
    "# Use setdiff to keep the ones not in remove list\n",
    "pids_keep_colitis = np.setdiff1d(colitis_no_previous_cancer.person_id, pids_remove)\n",
    "pids_keep_crc = np.setdiff1d(crc_and_colitis.person_id, pids_remove)\n",
    "\n",
    "# Subset dataframes\n",
    "colitis_no_previous_cancer = colitis_no_previous_cancer[colitis_no_previous_cancer.person_id.isin(pids_keep_colitis)]\n",
    "ca_crc = crc_and_colitis[crc_and_colitis.person_id.isin(pids_keep_crc)]"
   ]
  },
  {
   "cell_type": "code",
   "execution_count": null,
   "metadata": {},
   "outputs": [],
   "source": [
    "# This snippet assumes you run setup first\n",
    "\n",
    "# This code saves your dataframe into a csv file in a \"data\" folder in Google Bucket\n",
    "\n",
    "# Replace df with THE NAME OF YOUR DATAFRAME\n",
    "my_dataframe = cacrc_incidence\n",
    "\n",
    "# Replace 'test.csv' with THE NAME of the file you're going to store in the bucket (don't delete the quotation marks)\n",
    "destination_filename = 'colitis_updated.csv'\n",
    "\n",
    "########################################################################\n",
    "##\n",
    "################# DON'T CHANGE FROM HERE ###############################\n",
    "##\n",
    "########################################################################\n",
    "\n",
    "# save dataframe in a csv file in the same workspace as the notebook\n",
    "my_dataframe.to_csv(destination_filename, index=False)\n",
    "\n",
    "# get the bucket name\n",
    "my_bucket = os.getenv('WORKSPACE_BUCKET')\n",
    "\n",
    "# copy csv file to the bucket\n",
    "args = [\"gsutil\", \"cp\", f\"./{destination_filename}\", f\"{my_bucket}/data/\"]\n",
    "output = subprocess.run(args, capture_output=True)\n",
    "\n",
    "# print output from gsutil\n",
    "output.stderr\n"
   ]
  }
 ],
 "metadata": {
  "kernelspec": {
   "display_name": "Python 3",
   "language": "python",
   "name": "python3"
  },
  "language_info": {
   "codemirror_mode": {
    "name": "ipython",
    "version": 3
   },
   "file_extension": ".py",
   "mimetype": "text/x-python",
   "name": "python",
   "nbconvert_exporter": "python",
   "pygments_lexer": "ipython3",
   "version": "3.8.5"
  },
  "toc": {
   "base_numbering": 1,
   "nav_menu": {},
   "number_sections": true,
   "sideBar": true,
   "skip_h1_title": false,
   "title_cell": "Table of Contents",
   "title_sidebar": "Contents",
   "toc_cell": false,
   "toc_position": {},
   "toc_section_display": true,
   "toc_window_display": false
  }
 },
 "nbformat": 4,
 "nbformat_minor": 5
}
