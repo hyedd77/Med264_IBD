{
 "cells": [
  {
   "cell_type": "code",
   "execution_count": null,
   "metadata": {},
   "outputs": [],
   "source": []
  },
  {
   "cell_type": "code",
   "execution_count": null,
   "metadata": {},
   "outputs": [],
   "source": []
  },
  {
   "cell_type": "code",
   "execution_count": null,
   "metadata": {},
   "outputs": [],
   "source": [
    "# Install necessary packages if not already installed\n",
    "if (!requireNamespace(\"googleCloudStorageR\", quietly = TRUE)) {\n",
    "  install.packages(\"googleCloudStorageR\")\n",
    "}\n",
    "\n",
    "# Load the required packages\n",
    "library(googleCloudStorageR)\n",
    "\n",
    "# Set your Google Cloud Storage bucket name\n",
    "bucket_name <- Sys.getenv(\"WORKSPACE_BUCKET\")\n",
    "\n",
    "# Specify the file path within the bucket\n",
    "name_of_file_in_bucket <- \"data/final_dataset.csv\"\n",
    "\n",
    "# Define the local destination path\n",
    "local_destination_path <- \"final_dataset.csv\"\n",
    "\n",
    "# Authenticate with Google Cloud Storage\n",
    "#gcs_auth(path = \"/path/to/your/keyfile.json\")  # Replace with the path to your JSON keyfile\n",
    "\n",
    "# Copy CSV file from the bucket to the local working directory\n",
    "gcs_get_object(object = name_of_file_in_bucket, bucket = bucket_name)"
   ]
  },
  {
   "cell_type": "code",
   "execution_count": null,
   "metadata": {},
   "outputs": [],
   "source": [
    "library(tidyverse)\n",
    "colitis_df <- read_csv('final_dataset.csv')"
   ]
  },
  {
   "cell_type": "code",
   "execution_count": null,
   "metadata": {},
   "outputs": [],
   "source": [
    "colitis_df %>% head()"
   ]
  },
  {
   "cell_type": "code",
   "execution_count": null,
   "metadata": {},
   "outputs": [],
   "source": [
    "####dropping drug use columns with huge missingness\n",
    "\n",
    "columns_to_drop = c(\n",
    "    'Past 3 Month Use Frequency: Street Opioid 3 Month Use',\n",
    "    'Past 3 Month Use Frequency: Sedative 3 Month Use',\n",
    "    'Past 3 Month Use Frequency: Prescription Stimulant 3 Month Use',\n",
    "    'Past 3 Month Use Frequency: Prescription Opioid 3 Month Use',\n",
    "    'Past 3 Month Use Frequency: Other Stimulant 3 Month Use',\n",
    "    'Past 3 Month Use Frequency: Other 3 Month Use',\n",
    "    'Past 3 Month Use Frequency: Inhalant 3 Month Use',\n",
    "    'Past 3 Month Use Frequency: Hallucinogen 3 Month Use',\n",
    "    'Past 3 Month Use Frequency: Cocaine 3 Month Use'\n",
    ")\n",
    "\n",
    "colitis_df <- colitis_df%>% select(-one_of(columns_to_drop))\n",
    "colitis_df %>% head()"
   ]
  },
  {
   "cell_type": "code",
   "execution_count": null,
   "metadata": {},
   "outputs": [],
   "source": [
    "colnames(colitis_df)\n",
    "\n",
    "colitis_df %>% group_by(as.factor(`Including yourself, who in your family has had Crohn\\'s disease? Select all that apply.`)) %>% summarize(n = n())"
   ]
  },
  {
   "cell_type": "code",
   "execution_count": null,
   "metadata": {},
   "outputs": [],
   "source": [
    "####reconstructing existing features for analysis:\n",
    "#colitis_df$uc1_crohns2 <- as.factor(as.character(uc1_crohns2))\n",
    "colitis_df$doctor_listen <- colitis_df$`How often does a doctor or nurse act as if he or she thinks you are not smart when you go to a doctor\\'s office or other health care provider?`\n",
    "colitis_df$doctor_not_smart <- colitis_df$`How often does a doctor or nurse act as if he or she thinks you are not smart when you go to a doctor\\'s office or other health care provider?`\n",
    "family_history_cols <- c('family_crohns', 'family_colitis', 'family_cancer', 'family_polyps')\n",
    "colitis_recode <- colitis_df %>% mutate(gender = case_when(\n",
    "                gender == 'Female' ~ 'Female',\n",
    "                gender == 'Male' ~ 'Male',\n",
    "                str_starts(gender, 'Gender Identity') ~ 'LGBTQ+',\n",
    "                TRUE ~ 'NA'), race = case_when(\n",
    "                race %in% c('Asian', 'Middle Eastern or North African', 'More than one population' ) ~ 'Other',\n",
    "                race == 'White' ~ 'White',\n",
    "                race == 'Black or African American' ~ 'Black',\n",
    "                TRUE ~ 'NA'), \n",
    "                alcohol_excess = case_when(\n",
    "                `Alcohol: Average Daily Drink Count` %in% c('5 or 6', '7 to 9', '10 or More') ~ '5+',\n",
    "                `Alcohol: Average Daily Drink Count` %in% c('1 or 2', '3 or 4') ~ '<5',\n",
    "                TRUE ~ 'NA'),\n",
    "                doctor_listen = case_when(\n",
    "                doctor_listen == 'Never' ~ 1,\n",
    "                doctor_listen == 'Rarely' ~ 2,\n",
    "                doctor_listen == 'Sometimes' ~ 3,\n",
    "                doctor_listen == 'Most of the time' ~ 4,\n",
    "                doctor_listen == 'Always' ~ 5),\n",
    "                doctor_not_smart = case_when(\n",
    "                doctor_not_smart == 'Never' ~ 1,\n",
    "                doctor_not_smart == 'Rarely' ~ 2,\n",
    "                doctor_not_smart == 'Sometimes' ~ 3,\n",
    "                doctor_not_smart == 'Most of the time' ~ 4,\n",
    "                doctor_not_smart == 'Always' ~ 5),\n",
    "                daily_mar_use = case_when(\n",
    "                `Past 3 Month Use Frequency: Marijuana 3 Month Use` == 'Daily' ~ 1,\n",
    "                `Past 3 Month Use Frequency: Marijuana 3 Month Use` %in% c('Monthly', 'One Or Twice', 'Weekly', 'Never') ~ 0),\n",
    "                smoker_yes = case_when(\n",
    "                `Smoking: Smoke Frequency` %in% c('Every Day', 'Some Days') ~ 1,\n",
    "                `Smoking: Smoke Frequency` %in% c('Not At All') ~ 0),\n",
    "                mental_health = case_when(\n",
    "                `Overall Health: General Mental Health` == 'Poor' ~ 1,\n",
    "                `Overall Health: General Mental Health` == 'Fair' ~ 2,\n",
    "                `Overall Health: General Mental Health`== 'Good' ~ 3,\n",
    "                `Overall Health: General Mental Health` == 'Very Good' ~ 4,\n",
    "                `Overall Health: General Mental Health` %in% c('Excllent', 'Excellent') ~ 5,\n",
    "                ),\n",
    "                physical_health = case_when(\n",
    "                `Overall Health: General Physical Health` == 'Poor' ~ 1,\n",
    "                `Overall Health: General Physical Health` == 'Fair' ~ 2,\n",
    "                `Overall Health: General Physical Health`== 'Good' ~ 3,\n",
    "                `Overall Health: General Physical Health` == 'Very Good' ~ 4,\n",
    "                `Overall Health: General Physical Health` %in% c('Excllent', 'Excellent') ~ 5,\n",
    "                ),\n",
    "                social_health = case_when(\n",
    "                `Overall Health: Social Satisfaction` == 'Poor' ~ 1,\n",
    "                `Overall Health: Social Satisfaction` == 'Fair' ~ 2,\n",
    "                `Overall Health: Social Satisfaction`== 'Good' ~ 3,\n",
    "                `Overall Health: Social Satisfaction` == 'Very Good' ~ 4,\n",
    "                `Overall Health: Social Satisfaction` %in% c('Excllent', 'Excellent') ~ 5,\n",
    "                ),\n",
    "                family_crohns = case_when(\n",
    "                str_detect(`Including yourself, who in your family has had Crohn\\'s disease? Select all that apply.`, 'Including yourself') ~ 'Yes',\n",
    "                          is.na(`Including yourself, who in your family has had Crohn\\'s disease? Select all that apply.`) ~ 'No'),\n",
    "                family_cancer = case_when(\n",
    "                str_detect(`Including yourself, who in your family has had colon cancer/rectal cancer? Select all that apply.`, 'Including yourself') ~ 'Yes',\n",
    "                          is.na(`Including yourself, who in your family has had colon cancer/rectal cancer? Select all that apply.`) ~ 'No'),\n",
    "                family_polyps = case_when(\n",
    "                str_detect(`Including yourself, who in your family has had colon polyps? Select all that apply.`, 'Including yourself') ~ 'Yes',\n",
    "                          is.na(`Including yourself, who in your family has had colon polyps? Select all that apply.`) ~ 'No'),\n",
    "                family_colitis = case_when(\n",
    "                str_detect(`Including yourself, who in your family has had ulcerative colitis? Select all that apply.`, 'Including yourself') ~ 'Yes',\n",
    "                          is.na(`Including yourself, who in your family has had ulcerative colitis? Select all that apply.`) ~ 'No')\n",
    "  )\n",
    "                \n",
    "\n",
    "colitis_recode$cancer_yes <- as.factor(colitis_df$cancer_yes)\n",
    "#colitis_recode %>% group_by(family_any, cancer_yes) %>% summarize(n = n())"
   ]
  },
  {
   "cell_type": "code",
   "execution_count": null,
   "metadata": {},
   "outputs": [],
   "source": [
    "colnames(colitis_recode)"
   ]
  },
  {
   "cell_type": "code",
   "execution_count": null,
   "metadata": {},
   "outputs": [],
   "source": [
    "colnames(colitis_df)\n",
    "\n",
    "colitis_recode %>% group_by(race) %>% summarize(n = n())\n",
    "colitis_recode %>% group_by(uc1_crohns2) %>% summarize(n = n())\n",
    "#colitis_recode %>% group_by(race) %>% summarize(n = n())\n",
    "mean(colitis_recode$age_at_colitis_dx)\n",
    "sd(colitis_recode$age_at_colitis_dx)\n",
    "mean(colitis_recode$median_income)\n",
    "sd(colitis_recode$median_income)"
   ]
  },
  {
   "cell_type": "code",
   "execution_count": null,
   "metadata": {},
   "outputs": [],
   "source": [
    "analysis_columns <- c('age_at_colitis_dx','uc1_crohns2','cancer_yes','gender','race','median_income','no_health_insurance','deprivation_index',\n",
    "                     'Can\\'t afford full medical care','Delayed medical care','alcohol_excess', 'smoker_yes','mental_health','physical_health','social_health','family_crohns','family_cancer','family_polyps','family_colitis' )\n",
    "\n",
    "\n",
    "colitis_recode <- colitis_recode[, names(colitis_recode) %in% analysis_columns]\n",
    "colitis_recode$uc1_crohns2 <- as.factor(colitis_recode$uc1_crohns2)\n",
    "colitis_recode$smoker_yes <- as.factor(as.character(colitis_recode$smoker_yes))\n",
    "colitis_recode$family_crohns <- as.factor(colitis_recode$family_crohns)\n",
    "colitis_recode$family_cancer <- as.factor(colitis_recode$family_cancer)\n",
    "colitis_recode$family_colitis <- as.factor(colitis_recode$family_colitis)\n",
    "colitis_recode$family_polyps <- as.factor(colitis_recode$family_polyps)\n",
    "colitis_recode$mental_health <- as.numeric(colitis_recode$mental_health)\n",
    "colitis_recode$physical_health <- as.numeric(colitis_recode$physical_health)\n",
    "colitis_recode$social_health <- as.numeric(colitis_recode$social_health)\n",
    "\n",
    "\n",
    "\n",
    "column_types <- sapply(colitis_recode, function(col) {\n",
    "  if (is.factor(col) || is.character(col)) {\n",
    "    return(\"categorical\")\n",
    "  } else if (is.numeric(col)) {\n",
    "    return(\"numeric\")\n",
    "  } else {\n",
    "    return(\"other\")\n",
    "  }\n",
    "})\n",
    "\n",
    "# Iterate over columns and create tables\n",
    "for (col_name in names(colitis_recode)) {\n",
    "  col_type <- column_types[col_name]\n",
    "  \n",
    "  if (col_type == \"categorical\") {\n",
    "    # For categorical columns (factors or character), create tables\n",
    "    table_result <- table(colitis_recode[[col_name]],colitis_recode$cancer_yes,  useNA = 'always')\n",
    "    chi_table_result <- table(colitis_recode[[col_name]], colitis_recode$cancer_yes)\n",
    "    prop_table_result <- prop.table(table_result, margin = 2)*100\n",
    "    print(paste(\"Table for\", col_name))\n",
    "    print(table_result)\n",
    "    #print(table(colitis_recode[[col_name]],  useNA = 'always'))\n",
    "    print(prop.table(table_result))\n",
    "    print(chisq.test(chi_table_result))\n",
    "  } else if (col_type == \"numeric\") {\n",
    "    # For numeric columns, create summary statistics\n",
    "    summary_result <- tapply(colitis_recode[[col_name]], colitis_recode$cancer_yes, summary, na.rm = TRUE)\n",
    "    print(paste(\"Summary for\", col_name))\n",
    "    print(summary_result)\n",
    "    print(sd(colitis_recode[[col_name]]))\n",
    "    print(t.test(colitis_recode[[col_name]]~ colitis_recode$cancer_yes))\n",
    "  } else {\n",
    "    print(paste(\"Skipping\", col_name, \"as it is neither categorical nor numeric.\"))\n",
    "  }\n",
    "}"
   ]
  },
  {
   "cell_type": "code",
   "execution_count": null,
   "metadata": {},
   "outputs": [],
   "source": []
  },
  {
   "cell_type": "code",
   "execution_count": null,
   "metadata": {},
   "outputs": [],
   "source": [
    "colitis_model <- colitis_recode\n",
    "colitis_model$gender <- factor(colitis_recode$gender, levels = c('Male', 'Female', 'LGBTQ+'))\n",
    "colitis_model$race <- factor(colitis_recode$race, levels = c('White', 'Black', 'Other'))\n",
    "#summary(colitis_recode$gender)\n",
    "#summary(colitis_model$gender)\n",
    "model <- glm(data = colitis_model, family = binomial, formula = as.numeric(as.character(cancer_yes)) ~ age_at_colitis_dx + uc1_crohns2 + gender + race + physical_health + smoker_yes+median_income+ \n",
    "            no_health_insurance)\n",
    "\n",
    "summary(model)\n",
    "exp(coef(model))\n",
    "\n"
   ]
  },
  {
   "cell_type": "code",
   "execution_count": null,
   "metadata": {},
   "outputs": [],
   "source": [
    "#install.packages('ggeffects')\n",
    "#install.packages('effects')\n",
    "#install.packages('patchwork')\n",
    "library(ggeffects)\n",
    "plot(ggpredict(model, 'age_at_colitis_dx'))\n",
    "\n",
    "library(patchwork)\n",
    "\n",
    "library(ggeffects)\n",
    "plot(ggpredict(model, 'smoker_yes'))\n",
    "\n",
    "library(patchwork)\n",
    "\n",
    "#plts = lapply(names(coefficients(model))[-1],function(i){\n",
    "#       return(plot(ggpredict(model,i)))\n",
    "#       })\n",
    "\n",
    "#wrap_plots(plts)"
   ]
  },
  {
   "cell_type": "code",
   "execution_count": null,
   "metadata": {},
   "outputs": [],
   "source": []
  },
  {
   "cell_type": "code",
   "execution_count": null,
   "metadata": {},
   "outputs": [],
   "source": [
    "#####graphing for significant features\n",
    "library(ggplot2)\n",
    "library(cowplot)\n",
    "ggplot(colitis_recode, aes(cancer_yes, age_at_colitis_dx)) + geom_boxplot() +geom_point() +  theme_cowplot()\n",
    "\n",
    "ggplot(colitis_recode, aes(cancer_yes, deprivation_index)) + geom_boxplot() +geom_point() +  theme_cowplot()\n",
    "\n",
    "ggplot(colitis_recode, aes(cancer_yes, median_income)) + geom_boxplot() +geom_point() +  theme_cowplot()\n",
    "\n",
    "ggplot(colitis_recode, aes(cancer_yes, no_health_insurance)) + geom_boxplot() +geom_point() +  theme_cowplot()\n",
    "\n",
    "ggplot(colitis_recode, aes(cancer_yes, poverty)) + geom_boxplot() +geom_point() +  theme_cowplot()"
   ]
  },
  {
   "cell_type": "code",
   "execution_count": null,
   "metadata": {},
   "outputs": [],
   "source": [
    "####deprivation graph\n",
    "dep_summary <- colitis_recode %>% group_by(cancer_yes) %>% summarise(sd = sd(deprivation_index, na.rm=TRUE), deprivation_index = mean(deprivation_index))\n",
    "\n",
    "t.test(colitis_recode$deprivation_index ~ colitis_recode$cancer_yes, na.rm = TRUE)\n",
    "\n",
    "ggplot(colitis_recode, aes(cancer_yes, deprivation_index)) + geom_violin(col = 'darkgray', trim = FALSE) + geom_pointrange(aes(ymin = deprivation_index-sd, ymax = deprivation_index+sd),data = dep_summary, col = 'red') + theme_cowplot()"
   ]
  },
  {
   "cell_type": "code",
   "execution_count": null,
   "metadata": {},
   "outputs": [],
   "source": [
    "####nohealthinsurance\n",
    "health_summary <- colitis_recode %>% group_by(cancer_yes) %>% summarise(sd = sd(no_health_insurance, na.rm=TRUE), no_health_insurance = mean(no_health_insurance))\n",
    "\n",
    "t.test(colitis_recode$no_health_insurance ~ colitis_recode$cancer_yes, na.rm = TRUE)\n",
    "\n",
    "ggplot(colitis_recode, aes(cancer_yes, no_health_insurance)) + geom_violin(col = 'darkgray', trim = FALSE) + geom_pointrange(aes(ymin = no_health_insurance-sd, ymax = no_health_insurance+sd),data = health_summary, col = 'red') + theme_cowplot()"
   ]
  },
  {
   "cell_type": "code",
   "execution_count": null,
   "metadata": {},
   "outputs": [],
   "source": []
  },
  {
   "cell_type": "code",
   "execution_count": null,
   "metadata": {},
   "outputs": [],
   "source": [
    "####physical health\n",
    "health_summary <- colitis_recode %>% group_by(cancer_yes) %>% summarise(sd = sd(physical_health), physical_health = mean(physical_health))\n",
    "\n",
    "t.test(colitis_recode$physical_health ~ colitis_recode$cancer_yes, na.rm = TRUE)\n",
    "\n",
    "ggplot(colitis_recode, aes(cancer_yes, physical_health)) + geom_violin(col = 'darkgray', trim = FALSE) + geom_pointrange(aes(ymin = physical_health-sd, ymax = physical_health+sd),data = health_summary, col = 'red') + theme_cowplot()"
   ]
  },
  {
   "cell_type": "code",
   "execution_count": null,
   "metadata": {},
   "outputs": [],
   "source": []
  }
 ],
 "metadata": {
  "kernelspec": {
   "display_name": "Python 3",
   "language": "python",
   "name": "python3"
  },
  "language_info": {
   "codemirror_mode": {
    "name": "ipython",
    "version": 3
   },
   "file_extension": ".py",
   "mimetype": "text/x-python",
   "name": "python",
   "nbconvert_exporter": "python",
   "pygments_lexer": "ipython3",
   "version": "3.8.5"
  },
  "toc": {
   "base_numbering": 1,
   "nav_menu": {},
   "number_sections": true,
   "sideBar": true,
   "skip_h1_title": false,
   "title_cell": "Table of Contents",
   "title_sidebar": "Contents",
   "toc_cell": false,
   "toc_position": {},
   "toc_section_display": true,
   "toc_window_display": false
  }
 },
 "nbformat": 4,
 "nbformat_minor": 5
}
